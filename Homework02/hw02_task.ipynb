{
 "cells": [
  {
   "cell_type": "markdown",
   "metadata": {
    "id": "BcZhS1jOA6Sz"
   },
   "source": [
    "# Кластеризация\n",
    "__Суммарное количество баллов: 10__\n",
    "\n",
    "В этом домашнем задании предлагается реализовать три различных метода кластеризации, понять, в каких случаях стоит применять те или иные методы, а так же применить один из алгоритмов к задаче уменьшения цветности изображения."
   ]
  },
  {
   "cell_type": "code",
   "execution_count": null,
   "metadata": {
    "id": "7oqR0LCQA6S0"
   },
   "outputs": [],
   "source": [
    "from sklearn.neighbors import KDTree\n",
    "from sklearn.datasets import make_blobs, make_moons\n",
    "import numpy as np\n",
    "import random\n",
    "import matplotlib.pyplot as plt\n",
    "import matplotlib\n",
    "import copy\n",
    "import cv2\n",
    "from collections import deque\n",
    "from typing import NoReturn"
   ]
  },
  {
   "cell_type": "code",
   "execution_count": null,
   "metadata": {
    "id": "3d3QD3M-A6S4"
   },
   "outputs": [],
   "source": [
    "def visualize_clasters(X, labels):\n",
    "    unique_labels = np.unique(labels)\n",
    "    unique_colors = np.random.random((len(unique_labels), 3))\n",
    "    colors = [unique_colors[l] for l in labels]\n",
    "    plt.figure(figsize=(9, 9))\n",
    "    plt.scatter(X[:, 0], X[:, 1], c=colors)\n",
    "    plt.show()\n",
    "\n",
    "def clusters_statistics(flatten_image, cluster_colors, cluster_labels):\n",
    "    fig, axes = plt.subplots(3, 2, figsize=(12, 16))\n",
    "    for remove_color in range(3):\n",
    "        axes_pair = axes[remove_color]\n",
    "        first_color = 0 if remove_color != 0 else 2\n",
    "        second_color = 1 if remove_color != 1 else 2\n",
    "        axes_pair[0].scatter([p[first_color] for p in flatten_image], [p[second_color] for p in flatten_image], c=flatten_image, marker='.')\n",
    "        axes_pair[1].scatter([p[first_color] for p in flatten_image], [p[second_color] for p in flatten_image], c=[cluster_colors[c] for c in cluster_labels], marker='.')\n",
    "        for a in axes_pair:\n",
    "            a.set_xlim(0, 1)\n",
    "            a.set_ylim(0, 1)\n",
    "    plt.show()"
   ]
  },
  {
   "cell_type": "markdown",
   "metadata": {
    "id": "r5JNcuFzA6S7"
   },
   "source": [
    "Генерируем два синтетических набора данных для кластеризации. Далее будем тестировать наши алгоритмы на них."
   ]
  },
  {
   "cell_type": "code",
   "execution_count": null,
   "metadata": {
    "id": "MK3zKxzxA6S8"
   },
   "outputs": [],
   "source": [
    "X_1, true_labels = make_blobs(400, 2, centers=[[0, 0], [-4, 0], [3.5, 3.5], [3.5, -2.0]])\n",
    "visualize_clasters(X_1, true_labels)\n",
    "X_2, true_labels = make_moons(400, noise=0.075)\n",
    "visualize_clasters(X_2, true_labels)"
   ]
  },
  {
   "cell_type": "markdown",
   "metadata": {
    "id": "D6yrhUSUA6S_"
   },
   "source": [
    "### Задание 1 (3 балла)\n",
    "Первый метод, который предлагается реализовать - метод K средних.\n",
    "\n",
    "#### Описание методов\n",
    "`fit(X, y=None)` ищет и запоминает в `self.centroids` центроиды кластеров для набора данных.\n",
    "`predict(X)` для каждого элемента из `X` возвращает номер кластера, к которому относится данный элемент.\n",
    "\n",
    "#### Инициализация кластеров\n",
    "Есть несколько вариантов инициализации кластеров. Нужно реализовать их все:\n",
    "1. `random` - центроиды кластеров являются случайными точками\n",
    "2. `sample` - центроиды кластеров выбираются случайно из набора данных\n",
    "3. `k-means++` - центроиды кластеров инициализируются при помощи метода K-means++\n",
    "\n",
    "__Не забудте реинициализировать пустые кластеры!__"
   ]
  },
  {
   "cell_type": "code",
   "execution_count": null,
   "metadata": {
    "id": "b6iOC6tqA6S_"
   },
   "outputs": [],
   "source": [
    "from task import KMeans"
   ]
  },
  {
   "cell_type": "markdown",
   "metadata": {
    "id": "1nsl1DE2A6TC"
   },
   "source": [
    "Протестируйте алгоритм на синтетических данных. При необходимости подберите гиперпараметры для достижения лучшего качества кластеризации."
   ]
  },
  {
   "cell_type": "code",
   "execution_count": null,
   "metadata": {
    "id": "CnahazJjA6TD"
   },
   "outputs": [],
   "source": [
    "kmeans = KMeans(n_clusters=4)\n",
    "kmeans.fit(X_1)\n",
    "labels = kmeans.predict(X_1)\n",
    "visualize_clasters(X_1, labels)\n",
    "\n",
    "kmeans = KMeans(n_clusters=2)\n",
    "kmeans.fit(X_2)\n",
    "labels = kmeans.predict(X_2)\n",
    "visualize_clasters(X_2, labels)"
   ]
  },
  {
   "cell_type": "markdown",
   "metadata": {
    "id": "s-qLa-JwA6TI"
   },
   "source": [
    "### Задание 2 (3 балла)\n",
    "В отличии от K-means, DBScan не позволяет задать количество кластеров, на которое будут разбиты данные. Руководствуясь геометрической интерпретацией, он позволяет выделять кластеры более сложной формы.\n",
    "\n",
    "#### Описание методов\n",
    "`fit_predict(X, y=None)` для каждого элемента `X` возвращает метку кластера, к которому он относится.\n",
    "\n",
    "#### Возможные метрики\n",
    "* `euclidean`\n",
    "* `manhattan`\n",
    "* `chebyshev`\n",
    "\n",
    "__Для быстрого поиска соседей используйте `sklearn.neighbors.KDTree`__"
   ]
  },
  {
   "cell_type": "code",
   "execution_count": null,
   "metadata": {
    "id": "guIWyyUqA6TI"
   },
   "outputs": [],
   "source": [
    "from task import DBScan"
   ]
  },
  {
   "cell_type": "markdown",
   "metadata": {
    "id": "J-e9i-FoA6TM"
   },
   "source": [
    "Протестируйте алгоритм на синтетических данных. При необходимости подберите гиперпараметры для достижения лучшего качества кластеризации."
   ]
  },
  {
   "cell_type": "code",
   "execution_count": null,
   "metadata": {
    "id": "Se6zx--ZA6TM"
   },
   "outputs": [],
   "source": [
    "dbscan = DBScan()\n",
    "labels = dbscan.fit_predict(X_1)\n",
    "visualize_clasters(X_1, labels)\n",
    "\n",
    "dbscan = DBScan()\n",
    "labels = dbscan.fit_predict(X_2)\n",
    "visualize_clasters(X_2, labels)"
   ]
  },
  {
   "cell_type": "markdown",
   "metadata": {
    "id": "p2QJXYhAA6TP"
   },
   "source": [
    "### Задание 3 (4 балла)\n",
    "Идея AgglomerativeClustering заключается в том, чтобы итеративно объединять кластеры с наименьшим расстоянием между ними. Данный метод обладает высокой вычислительной сложностью, поэтому применим только для относительно небольших наборов данных.\n",
    "\n",
    "#### Описание методов\n",
    "`fit_predict(X, y=None)` для каждого элемента `X` возвращает метку кластера, к которому он относится.\n",
    "\n",
    "#### Linkage-функции\n",
    "__Linkage__ - это способ, которым будет рассчитываться расстояние между кластерами. Предлагается реализовать три варианта такой функции:\n",
    "1. `average` - расстояние рассчитывается как среднее расстояние между всеми парами точек, где одна принадлежит первому кластеру, а другая - второму.\n",
    "2. `single` - расстояние рассчитывается как минимальное из расстояний между всеми парами точек, где одна принадлежит первому кластеру, а другая - второму.\n",
    "2. `complete` - расстояние рассчитывается как максимальное из расстояний между всеми парами точек, где одна принадлежит первому кластеру, а другая - второму."
   ]
  },
  {
   "cell_type": "code",
   "execution_count": null,
   "metadata": {
    "id": "7_96Z--hA6TP"
   },
   "outputs": [],
   "source": [
    "from task import AgglomerativeClustering"
   ]
  },
  {
   "cell_type": "markdown",
   "metadata": {
    "id": "kJ30kMMwA6TS"
   },
   "source": [
    "Протестируйте алгоритм на синтетических данных. При необходимости подберите гиперпараметры для достижения лучшего качества кластеризации."
   ]
  },
  {
   "cell_type": "code",
   "execution_count": null,
   "metadata": {
    "id": "wqpFVA6LA6TT"
   },
   "outputs": [],
   "source": [
    "agg_clustering = AgglomerativeClustering(n_clusters=4)\n",
    "labels = agg_clustering.fit_predict(X_1)\n",
    "visualize_clasters(X_1, labels)\n",
    "\n",
    "agg_clustering = AgglomerativeClustering(n_clusters=2)\n",
    "labels = agg_clustering.fit_predict(X_2)\n",
    "visualize_clasters(X_2, labels)"
   ]
  },
  {
   "cell_type": "markdown",
   "metadata": {
    "id": "HDEwACMzA6TW"
   },
   "source": [
    "### Дополнительно\n",
    "Научимся кластеризовать цвета в изображении. Для начала используем OpenCV для того, чтобы считать изображение.\n",
    "\n",
    "#### Описание методов\n",
    "`read_image(path)` читает изображение и возвращает его в виде трехмерного numpy массива размера `(N, M, C)`, где `N` и `M` - размеры изображения, а `C` - количество цветов (3 для обычного изображения)\n",
    "`save_image(image, path)` сохраняет изображение.\n",
    "\n",
    "__Учтите, что `cv2.imread` считывает изображение в цветовой схеме BGR. После считывания необходимо перевести его в RGB и нормализовать__"
   ]
  },
  {
   "cell_type": "code",
   "execution_count": null,
   "metadata": {
    "id": "v5acCwUpA6TW"
   },
   "outputs": [],
   "source": [
    "def read_image(path: str) -> np.array:\n",
    "    \"\"\"\n",
    "    Читает изображение.\n",
    "\n",
    "    Parameters\n",
    "    ----------\n",
    "    path : str\n",
    "        Путь к изображению.\n",
    "    \n",
    "    Return\n",
    "    ------\n",
    "    image : np.array\n",
    "        Трехмерный массив размера (N, M, C), \n",
    "        где N и M - размеры изображения, \n",
    "        а C - количество цветов (3 для обычного изображения).\n",
    "    \"\"\"\n",
    "    image = cv2.cvtColor(cv2.imread(path), cv2.COLOR_BGR2RGB) / 255.\n",
    "    return image\n",
    "\n",
    "def show_image(image: np.array) -> NoReturn:\n",
    "    \"\"\"\n",
    "    Выводит изображение\n",
    "\n",
    "    Parameters\n",
    "    ----------\n",
    "    image : np.array\n",
    "        Трехмерный массив - нормализованное изображение в цветовой схеме RGB.\n",
    "    \"\"\"\n",
    "    plt.figure(figsize=np.array(image.shape[:-1]) / 50)\n",
    "    plt.imshow(image)\n",
    "    plt.axis('off')\n",
    "    plt.tight_layout()\n",
    "    plt.show()\n",
    "\n",
    "def save_image(image: np.array, path: str) -> NoReturn:\n",
    "    \"\"\"\n",
    "    Сохраняет изображение.\n",
    "\n",
    "    Parameters\n",
    "    ----------\n",
    "    image : np.array\n",
    "        Трехмерный массив - нормализованное изображение в цветовой схеме RGB.\n",
    "    path : str\n",
    "        Путь для сохранения.\n",
    "    \"\"\"\n",
    "    image = cv2.cvtColor(np.float32(image * 255), cv2.COLOR_RGB2BGR)\n",
    "    cv2.imwrite(path, image)"
   ]
  },
  {
   "cell_type": "code",
   "execution_count": null,
   "metadata": {
    "id": "CrvMrvsBA6TZ"
   },
   "outputs": [],
   "source": [
    "show_image(read_image(\"./image.png\"))"
   ]
  },
  {
   "cell_type": "markdown",
   "metadata": {
    "id": "S9S-476UA6Tc"
   },
   "source": [
    "Теперь реализуем функцию, которая будет кластеризовать цвета изображения одним из реализованных алгоритмов. Интерфейс этой функции можно менять. Функция должна возвращать новое изображение, в котором цвета заменены на цвета кластеров.\n",
    "\n",
    "Затем применим ее к цветам изображения.\n",
    "\n",
    "__Примечание: это задание проще всего выполнить при помощи KMeans__"
   ]
  },
  {
   "cell_type": "code",
   "execution_count": null,
   "metadata": {
    "id": "5Glg3ukKA6Td"
   },
   "outputs": [],
   "source": [
    "def clusterize_image(image, n_clusters=8, color_scheme=\"rgb\", show_cluster_statisitcs = False):\n",
    "    orig_image = image\n",
    "    if color_scheme == \"hsv\":\n",
    "        image = cv2.cvtColor((image * 255).astype('float32'), cv2.COLOR_RGB2HSV)\n",
    "        image /= 255.\n",
    "    shape = image.shape\n",
    "    \n",
    "    small = image[::4,::4,:]\n",
    "    image = image.reshape((-1, shape[-1]))\n",
    "    orig_image = orig_image.reshape((-1, shape[-1]))\n",
    "    X = small.reshape((-1, shape[-1]))\n",
    "    kmeans = KMeans(max_iter=16, n_clusters=n_clusters, init=\"k-means++\")\n",
    "    kmeans.fit(X)\n",
    "    clusters = kmeans.predict(image)\n",
    "    cluster_colors = kmeans.centorids\n",
    "\n",
    "    recolored = np.array([cluster_colors[c] for c in clusters]).reshape(shape)\n",
    "    if color_scheme == \"hsv\":\n",
    "        recolored *= 255\n",
    "        recolored = cv2.cvtColor(recolored.astype('float32'), cv2.COLOR_HSV2RGB) / 255.\n",
    "    if show_cluster_statisitcs:\n",
    "        clusters_statistics(orig_image, cluster_colors, clusters)\n",
    "    return recolored.reshape(shape)"
   ]
  },
  {
   "cell_type": "code",
   "execution_count": null,
   "metadata": {
    "id": "vy0pxT5oA6Tg"
   },
   "outputs": [],
   "source": [
    "image = read_image(\"./img.jpg\")\n",
    "result = clusterize_image(image, n_clusters=4)\n",
    "show_image(result)"
   ]
  },
  {
   "cell_type": "code",
   "execution_count": null,
   "metadata": {},
   "outputs": [],
   "source": [
    "image = read_image(\"./img.jpg\")\n",
    "result = clusterize_image(image, n_clusters=8)\n",
    "show_image(result)"
   ]
  },
  {
   "cell_type": "code",
   "execution_count": null,
   "metadata": {},
   "outputs": [],
   "source": [
    "image = read_image(\"./img.jpg\")\n",
    "result = clusterize_image(image, n_clusters=16)\n",
    "show_image(result)"
   ]
  }
 ],
 "metadata": {
  "colab": {
   "provenance": []
  },
  "kernelspec": {
   "display_name": "Python 3 (ipykernel)",
   "language": "python",
   "name": "python3"
  },
  "language_info": {
   "codemirror_mode": {
    "name": "ipython",
    "version": 3
   },
   "file_extension": ".py",
   "mimetype": "text/x-python",
   "name": "python",
   "nbconvert_exporter": "python",
   "pygments_lexer": "ipython3",
   "version": "3.9.12"
  }
 },
 "nbformat": 4,
 "nbformat_minor": 1
}
