{
 "cells": [
  {
   "cell_type": "markdown",
   "metadata": {},
   "source": [
    "# Stochastic stranding: Spam edition\n",
    "__Суммарное количество баллов: 10__\n",
    "\n",
    "По бескрайним каменным джунглям от заказа к заказу бродят курьеры. Их задача - как можно быстрее доставить все заказы, чтобы взять новые. Ничто не может заставить их покинуть вечный цикл доставки.\n",
    "Курьеры часто они получают фейковые спам-рассылки, и чтобы помочь им отфильтровать сообщения, необходимо научиться отличать спам от не-спама."
   ]
  },
  {
   "cell_type": "code",
   "execution_count": null,
   "metadata": {},
   "outputs": [],
   "source": [
    "import numpy as np\n",
    "import pandas\n",
    "import random\n",
    "import matplotlib.pyplot as plt\n",
    "from matplotlib import animation, rc\n",
    "from IPython.display import HTML\n",
    "import matplotlib\n",
    "import copy\n",
    "from sklearn.model_selection import train_test_split\n",
    "import spacy\n",
    "from nltk.stem.snowball import SnowballStemmer\n",
    "from typing import NoReturn"
   ]
  },
  {
   "cell_type": "code",
   "execution_count": 1,
   "metadata": {
    "scrolled": false
   },
   "outputs": [],
   "source": [
    "def get_colors(distances, alpha=True):\n",
    "    normed = np.array(distances) - np.min(distances)\n",
    "    normed = normed / np.max(normed)\n",
    "    alpha = 1/np.mean([len(row) for row in normed])**0.5 if alpha else 1.\n",
    "    return [[((1. if n > 0.5 else 2 * n), (1. if n < 0.5 else 2 - 2*n), 0., alpha) \n",
    "             for n in row] for row in normed]\n",
    "\n",
    "def get_coords(points):\n",
    "    results = []\n",
    "    for pts in points:\n",
    "        x_prev, _ = pts[0]\n",
    "        result = [pts[0]]\n",
    "        for x, y in list(pts[1:]) + [pts[0]]:\n",
    "            result.append((x_prev, y))\n",
    "            result.append((x, y))\n",
    "            x_prev = x\n",
    "        results.append(list(zip(*result)))\n",
    "    return results\n",
    "\n",
    "def init_figure(X):\n",
    "    upper_bound, lower_bound = X.max(axis=0) + 1, X.min(axis=0) - 1\n",
    "    fig, ax = plt.subplots(figsize=(10, 10), nrows=1, ncols=1)\n",
    "    #ax.set_facecolor((0.1, 0.1, 0.1))\n",
    "    ax.grid(True)\n",
    "    #ax.grid(True, color=(0.9, 0.9, 0.9))\n",
    "    ax.set_xticks(range(lower_bound[0], upper_bound[0]))\n",
    "    ax.set_yticks(range(lower_bound[1], upper_bound[1]))\n",
    "    ax.set_xlim(lower_bound[0], upper_bound[0])\n",
    "    ax.set_ylim(lower_bound[1], upper_bound[1])\n",
    "    ax.set_xticklabels([])\n",
    "    ax.set_yticklabels([])\n",
    "    ax.scatter(X[:, 0], X[:, 1], color=(0, 0, 1))\n",
    "    plt.tight_layout()\n",
    "    return fig, ax    \n",
    "\n",
    "def visualize_hillclimb(X, hillclimb):\n",
    "    fig, ax = init_figure(X)\n",
    "    permutations = hillclimb.optimize_explain(X)\n",
    "    colors = get_colors([[cyclic_distance(X[p], hillclimb.dist) for p in permutations]], False)[0]\n",
    "    coords = get_coords([X[p] for p in permutations])\n",
    "    plot = ax.plot(coords[0][0], coords[0][1], color=colors[0])[0]\n",
    "    \n",
    "    def animate(i):\n",
    "        plot.set_color(colors[i])\n",
    "        plot.set_data(*coords[i])\n",
    "        return (plot,)\n",
    "    \n",
    "    return animation.FuncAnimation(fig, animate, frames=len(permutations), interval=100, blit=True)\n",
    "\n",
    "def visualize_genetic(X, genetic):\n",
    "    fig, ax = init_figure(X)\n",
    "    populations = genetic.optimize_explain(X)\n",
    "    distances = [[cyclic_distance(X[p], genetic.dist) for p in populations[i]] for i in range(len(populations))]\n",
    "    colors = get_colors(distances)\n",
    "    coords = get_coords([X[p] for p in populations[0]])\n",
    "    plots = [ax.plot(x, y, color=c)[0] for (x, y), c in zip(coords, colors[0])]\n",
    "    best_id = np.argmin(distances[0])\n",
    "    best_plot = ax.plot(*coords[best_id], color=(0.3, 0.3, 1, 0.9), linestyle=\"-.\")[0]\n",
    "    \n",
    "    def animate(i):\n",
    "        coords = get_coords([X[p] for p in populations[i]])\n",
    "        for p, (x, y), c in zip(plots, coords, colors[i]):\n",
    "            p.set_color(c)\n",
    "            p.set_data(x, y)\n",
    "        best_id = np.argmin(distances[i])\n",
    "        best_plot.set_data(*coords[best_id])\n",
    "        return plots + [best_plot]\n",
    "    \n",
    "    return animation.FuncAnimation(fig, animate, frames=len(populations), interval=100, blit=True)\n",
    "\n",
    "import re\n",
    "def read_dataset(filename):\n",
    "    file = open(filename, encoding=\"utf-8\")\n",
    "    x = []\n",
    "    y = []\n",
    "    for line in file:\n",
    "        cl, sms = re.split(\"^(ham|spam)[\\t\\s]+(.*)$\", line)[1:3]\n",
    "        x.append(sms)\n",
    "        y.append(cl)\n",
    "    return np.array(x, dtype=np.str), np.array(y, dtype=np.str)\n",
    "\n",
    "def get_precision_recall_accuracy(y_pred, y_true):\n",
    "    classes = np.unique(list(y_pred) + list(y_true))\n",
    "    true_positive = dict((c, 0) for c in classes)\n",
    "    true_negative = dict((c, 0) for c in classes)\n",
    "    false_positive = dict((c, 0) for c in classes)\n",
    "    false_negative = dict((c, 0) for c in classes)\n",
    "    for c_pred, c_true in zip(y_pred, y_true):\n",
    "        for c in classes:\n",
    "            if c_true == c:\n",
    "                if c_pred == c_true:\n",
    "                    true_positive[c] = true_positive.get(c, 0) + 1\n",
    "                else:\n",
    "                    false_negative[c] = false_negative.get(c, 0) + 1\n",
    "            else:\n",
    "                if c_pred == c:\n",
    "                    false_positive[c] = false_positive.get(c, 0) + 1\n",
    "                else:\n",
    "                    true_negative[c] = true_negative.get(c, 0) + 1\n",
    "    precision = dict((c, true_positive[c] / (true_positive[c] + false_positive[c])) for c in classes)\n",
    "    recall = dict((c, true_positive[c] / (true_positive[c] + false_negative[c])) for c in classes)\n",
    "    accuracy = sum([true_positive[c] for c in classes]) / len(y_pred)\n",
    "    return precision, recall, accuracy\n",
    "\n",
    "def plot_precision_recall(X_train, y_train, X_test, y_test, bow_method, voc_sizes=range(4, 200, 5)):\n",
    "    classes = np.unique(list(y_train) + list(y_test))\n",
    "    precisions = dict([(c, []) for c in classes])\n",
    "    recalls = dict([(c, []) for c in classes])\n",
    "    accuracies = []\n",
    "    for v in voc_sizes:\n",
    "        bow = bow_method(X_train, voc_limit=v)\n",
    "        X_train_transformed = bow.transform(X_train)\n",
    "        X_test_transformed = bow.transform(X_test)\n",
    "        classifier = NaiveBayes(0.001)\n",
    "        classifier.fit(X_train_transformed, y_train)\n",
    "        y_pred = classifier.predict(X_test_transformed)\n",
    "        precision, recall, acc = get_precision_recall_accuracy(y_pred, y_test)\n",
    "        for c in classes:\n",
    "            precisions[c].append(precision[c])\n",
    "            recalls[c].append(recall[c])\n",
    "        accuracies.append(acc)\n",
    "    def plot(x, ys, ylabel, legend=True):        \n",
    "        plt.figure(figsize = (12, 3))\n",
    "        plt.xlabel(\"Vocabulary size\")\n",
    "        plt.ylabel(ylabel)\n",
    "        plt.xlim(x[0], x[-1])\n",
    "        plt.ylim(np.min(list(ys.values()))-0.01, np.max(list(ys.values()))+0.01)\n",
    "        for c in ys.keys():\n",
    "            plt.plot(x, ys[c], label=\"Class \" + str(c))\n",
    "        if legend:\n",
    "            plt.legend()\n",
    "        plt.tight_layout()\n",
    "        plt.show()\n",
    "    \n",
    "    plot(voc_sizes, recalls, \"Recall\")\n",
    "    plot(voc_sizes, precisions, \"Precision\")\n",
    "    plot(voc_sizes, {\"\":accuracies}, \"Accuracy\", legend=False)"
   ]
  },
  {
   "cell_type": "code",
   "execution_count": null,
   "metadata": {},
   "outputs": [],
   "source": [
    "X, y = read_dataset(\"spam\")\n",
    "X_spam_train, X_spam_test, y_spam_train, y_spam_test = train_test_split(X, y, train_size=0.9)"
   ]
  },
  {
   "cell_type": "code",
   "execution_count": null,
   "metadata": {},
   "outputs": [],
   "source": [
    "def synthetic_points(count=25, dims=2):\n",
    "    return np.random.randint(40, size=(count, dims))\n",
    "\n",
    "X = synthetic_points()"
   ]
  },
  {
   "cell_type": "code",
   "execution_count": null,
   "metadata": {},
   "outputs": [],
   "source": []
  },
  {
   "cell_type": "code",
   "execution_count": null,
   "metadata": {},
   "outputs": [],
   "source": []
  },
  {
   "cell_type": "markdown",
   "metadata": {},
   "source": [
    "### Задание 1 (1 балл)\n",
    "Для начала научимся считать расстояния, которые курьерам придется преодолеть. Если бы они доставляли еду в пустыне, то им бы было достаточно считать евклидовы расстояния, т.к. можно просто идти напрямик. Однако курьеры доставляют еду только в городе, и двигаться могут только вдоль улиц. Поэтому нам понадобится манъэттенское расстояние.\n",
    "\n",
    "#### Функции\n",
    "`cyclic_distance(points, dist)` - возвращает суммарное расстояние пройденное курьером по циклу из точек `points` посчитанное при помощи функции `dist`.\n",
    "\n",
    "`l2_distance(p1, p2)` - возвраает евклидово расстояние между точками.\n",
    "\n",
    "`l1_distance(p1, p2)` - возвращает манхэттенское расстояние между точками."
   ]
  },
  {
   "cell_type": "code",
   "execution_count": null,
   "metadata": {},
   "outputs": [],
   "source": [
    "from task import cyclic_distance, l2_distance, l1_distance"
   ]
  },
  {
   "cell_type": "markdown",
   "metadata": {},
   "source": [
    "### Задание 2 (2 балла)\n",
    "Курьер получил карту расположения заказов на карте. Ему хочется побыстрее обойти все точки. Для этого он хочет воспользоваться методом HillClimb, а вам предстоит ему в этом помочь. Реализуйте данный метод.\n",
    "\n",
    "#### Методы\n",
    "`optimize_explain(X)` - возвращает список из перестановок точек `X`, полученных в процессе оптимизации. Перестановка должна попадать в список после каждого изменения. Метод должен совершить не больше `max_iterations` итераций, на каждой из них необходимо рассмотреть все возможные пары индексов.\n",
    "\n",
    "#### Параметры конструктора\n",
    "`max_iterations` - максимальное количество итераций в методе `optimize_explain`\n",
    "\n",
    "`dist` - функция расстояния\n",
    "\n",
    "\n",
    "#### Оценка\n",
    "От 0.5 до 2 баллов в зависимости от оптимальности найденного решения."
   ]
  },
  {
   "cell_type": "code",
   "execution_count": null,
   "metadata": {},
   "outputs": [],
   "source": [
    "from task import HillClimb"
   ]
  },
  {
   "cell_type": "code",
   "execution_count": null,
   "metadata": {},
   "outputs": [],
   "source": [
    "hc = HillClimb(100, l1_distance)\n",
    "HTML(visualize_hillclimb(X, hillclimb).to_jshtml())"
   ]
  },
  {
   "cell_type": "markdown",
   "metadata": {},
   "source": [
    "### Задание 3 (2 балла)\n",
    "Курьерское дело растет, теперь между городами блуждает большое количество курьеров, а их профессия вместе с известным маршрутом передается из поколение в поколение. Чем быстрее курьер способен обойти города - тем больше вероятность того, что он заработает себе на безоблачную старость и передаст свое дело потомкам. Симулируйте эволюцию курьеров, реализовав генетический алгоритм.\n",
    "\n",
    "#### Методы\n",
    "`optimize(X)` - выбирает лучшую перестановку из результатов `optimize_explain(X)`\n",
    "\n",
    "`optimize_explain(X)` - возвращает список длины `iterations` популяций размера `population` перестановок точек `X`, полученных в процессе оптимизации. На каждом шаге алгоритм должен оставлять только `survivors` выживших, следующая популяция должна быть сгенерирована из них\n",
    "\n",
    "#### Оценка\n",
    "От 0.5 до 2 баллов в зависимости от оптимальности найденного решения."
   ]
  },
  {
   "cell_type": "code",
   "execution_count": null,
   "metadata": {},
   "outputs": [],
   "source": [
    "from task import Genetic"
   ]
  },
  {
   "cell_type": "code",
   "execution_count": null,
   "metadata": {},
   "outputs": [],
   "source": [
    "gen = Genetic(200, 100, 20, l1_distance)\n",
    "HTML(visualize_genetic(X, gen).to_jshtml())"
   ]
  },
  {
   "cell_type": "code",
   "execution_count": null,
   "metadata": {},
   "outputs": [],
   "source": []
  },
  {
   "cell_type": "markdown",
   "metadata": {},
   "source": [
    "### Задание 4 (2 балла)\n",
    "Теперь реализуем метод bag of words. Задача состоит в том, чтобы посчитать количество вхождений каждого слова в предложение.\n",
    "\n",
    "#### Методы\n",
    "`__init__(X, voc_limit)` - инициализирует BoW, составляя словарь, который будет использоваться для векторизации предложений. Размер словаря должен быть не больше `voc_limit`, в него должны входить самые часто встречающиеся в выборке слова.\n",
    "\n",
    "`transform(X)` - векторизует сообщения из набора."
   ]
  },
  {
   "cell_type": "code",
   "execution_count": null,
   "metadata": {},
   "outputs": [],
   "source": [
    "from task import BoW"
   ]
  },
  {
   "cell_type": "code",
   "execution_count": null,
   "metadata": {},
   "outputs": [],
   "source": [
    "bow = BoW(X_spam_train, voc_limit=500)\n",
    "X_train_bow = bow.transform(X_spam_train)\n",
    "X_test_bow = bow.transform(X_spam_test)"
   ]
  },
  {
   "cell_type": "markdown",
   "metadata": {},
   "source": [
    "### Задание 5 (3 балла)\n",
    "Реализуйте классификацию методом Байеса в предположении независимости компонент `x`. При реализации следует считать, что значения каждой компоненты дискретны, а `p(x|y)` имеет мультиномиальное распределение.\n",
    "\n",
    "#### Методы\n",
    "`fit(X, y)` - оценивает параметры распределения `p(x|y)` для каждого `y`. \n",
    "\n",
    "`log_proba(X)` - для каждого элемента набора `X` считает логарифм вероятности отнести его к каждому классу. По теореме Байеса: `p(y|x) = p(y)p(x|y)/p(x)`. Соответственно, после логарифмирования: `log p(y|x) = log p(y) + log p(x|y) - log p(x)`. Поскольку `log p(x)` является независящей от класса `y` константой, это слагаемое никак не влияет на решение задачи максимизации. Поэтому его можно просто убрать для простоты."
   ]
  },
  {
   "cell_type": "code",
   "execution_count": null,
   "metadata": {},
   "outputs": [],
   "source": [
    "from task import NaiveBayes"
   ]
  },
  {
   "cell_type": "code",
   "execution_count": null,
   "metadata": {},
   "outputs": [],
   "source": [
    "predictor = NaiveBayes(0.001)\n",
    "predictor.fit(X_train_bow, y_train)\n",
    "get_precision_recall_accuracy(predictor.predict(X_test_bow), y_test)"
   ]
  },
  {
   "cell_type": "code",
   "execution_count": null,
   "metadata": {},
   "outputs": [],
   "source": [
    "plot_precision_recall(X_spam_train, y_spam_train, X_spam_test, y_spam_test, BoW)"
   ]
  }
 ],
 "metadata": {
  "kernelspec": {
   "display_name": "Python 3 (ipykernel)",
   "language": "python",
   "name": "python3"
  },
  "language_info": {
   "codemirror_mode": {
    "name": "ipython",
    "version": 3
   },
   "file_extension": ".py",
   "mimetype": "text/x-python",
   "name": "python",
   "nbconvert_exporter": "python",
   "pygments_lexer": "ipython3",
   "version": "3.9.12"
  }
 },
 "nbformat": 4,
 "nbformat_minor": 2
}
