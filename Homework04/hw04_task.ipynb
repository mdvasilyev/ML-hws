{
 "cells": [
  {
   "cell_type": "markdown",
   "metadata": {
    "id": "AxvVXGIb7IlM"
   },
   "source": [
    "# Перцептрон для восприятия цифр\n",
    "__Суммарное количество баллов: 10__\n",
    "\n",
    "В этом задании вам предстоит реализовать классический перцептрон, немного улчшить его, и протестировать результат на классической задаче определния цифр по изображениям."
   ]
  },
  {
   "cell_type": "code",
   "execution_count": null,
   "metadata": {
    "id": "XXEjTwfn7IlO"
   },
   "outputs": [],
   "source": [
    "import numpy as np\n",
    "from sklearn.datasets import make_blobs, make_moons\n",
    "from sklearn.model_selection import train_test_split\n",
    "import matplotlib.pyplot as plt\n",
    "from sklearn import datasets"
   ]
  },
  {
   "cell_type": "code",
   "execution_count": null,
   "metadata": {
    "id": "xDIVYWhC7Ilk"
   },
   "outputs": [],
   "source": [
    "def visualize(X, labels_true, labels_pred, w):\n",
    "    unique_labels = np.unique(labels_true)\n",
    "    unique_colors = dict([(l, c) for l, c in zip(unique_labels, [[0.8, 0., 0.], [0., 0., 0.8]])])\n",
    "    plt.figure(figsize=(9, 9))\n",
    "\n",
    "    if w[1] == 0:\n",
    "        plt.plot([X[:, 0].min(), X[:, 0].max()], w[0] / w[2])\n",
    "    elif w[2] == 0:\n",
    "        plt.plot(w[0] / w[1], [X[:, 1].min(), X[:, 1].max()])  \n",
    "    else:\n",
    "        mins, maxs = X.min(axis=0), X.max(axis=0)\n",
    "        pts = [[mins[0], -mins[0] * w[1] / w[2] - w[0] / w[2]],\n",
    "               [maxs[0], -maxs[0] * w[1] / w[2] - w[0] / w[2]],\n",
    "               [-mins[1] * w[2] / w[1] - w[0] / w[1], mins[1]],\n",
    "               [-maxs[1] * w[2] / w[1] - w[0] / w[1], maxs[1]]]\n",
    "        pts = [(x, y) for x, y in pts if mins[0] <= x <= maxs[0] and mins[1] <= y <= maxs[1]]\n",
    "        x, y = list(zip(*pts))\n",
    "        plt.plot(x, y, c=(0.75, 0.75, 0.75), linestyle=\"--\")\n",
    "    \n",
    "    colors_inner = [unique_colors[l] for l in labels_true]\n",
    "    colors_outer = [unique_colors[l] for l in labels_pred]\n",
    "    plt.scatter(X[:, 0], X[:, 1], c=colors_inner, edgecolors=colors_outer)\n",
    "    plt.show()"
   ]
  },
  {
   "cell_type": "markdown",
   "metadata": {
    "id": "uPIPTf5o7IlV"
   },
   "source": [
    "### Задание 1 (3 балла)\n",
    "Для начала реализуем простой перцептрон.\n",
    "\n",
    "#### Методы\n",
    "`predict(X)` - возвращает предсказанные метки для элементов выборки `X`\n",
    "\n",
    "`fit(X, y)` - инициализирует веса перцептрона нулями, а затем обновляет их в течении `iterations` итераций. Обновление происходит следующим образом: $w_{t+1} = w_t + \\sum_{y_i: \\text{sign}(x_i w) \\neq y_i} y_i \\cdot x_i$.\n",
    "\n",
    "Гарантируется, что в обучающей и тестовой выборках всего два класса. Обратите внимание, что метки классов в обучающей выборке могут быть любыми.\n",
    "\n",
    "#### Параметры конструктора\n",
    "`iterations` - количество итераций обучения перцептрона\n",
    "\n",
    "#### Поля\n",
    "`w` - веса перцептрона размерности `X.shape[1] + 1`. `w[0]` должен соответстовать константе, `w[1:]` - коэффициентам компонент элемента `X`.\n",
    "\n",
    "#### Тесты\n",
    "Есть две группы тестов:\n",
    "1. Линейно разделимые данные с равным количеством точек в каждом классе. Всего 20 тестов по 150 точек в train и 50 точек в test.\n",
    "2. Линейно разделимые данные с неравным еоличеством точек в каждом классе. Всего 20 тестов по 150 точек в train и 50 точек в test.\n",
    "\n",
    "Количество итераций на каждом из тестов равно `20000`, а размерность пространства не превышает `16`."
   ]
  },
  {
   "cell_type": "code",
   "execution_count": null,
   "metadata": {
    "id": "F5gyJPlh7IlW"
   },
   "outputs": [],
   "source": [
    "from task import Perceptron"
   ]
  },
  {
   "cell_type": "markdown",
   "metadata": {
    "id": "8ygPuIKV7Ila"
   },
   "source": [
    "Посмотрим на то, как наш перцептрон справляется с различными наборами данных"
   ]
  },
  {
   "cell_type": "code",
   "execution_count": null,
   "metadata": {
    "id": "DTKBv79Q7Ila"
   },
   "outputs": [],
   "source": [
    "X, true_labels = make_blobs(400, 2, centers=[[0, 0], [2.5, 2.5]])\n",
    "c = Perceptron()\n",
    "c.fit(X, true_labels)\n",
    "visualize(X, true_labels, np.array(c.predict(X)), c.w)"
   ]
  },
  {
   "cell_type": "code",
   "execution_count": null,
   "metadata": {
    "id": "9X5UC1_p7Ild",
    "scrolled": false
   },
   "outputs": [],
   "source": [
    "X, true_labels = make_moons(400, noise=0.075)\n",
    "c = Perceptron()\n",
    "c.fit(X, true_labels)\n",
    "visualize(X, true_labels, np.array(c.predict(X)), c.w)"
   ]
  },
  {
   "cell_type": "markdown",
   "metadata": {
    "id": "_STMz5jy7Ilg"
   },
   "source": [
    "### Задание 2 (2 балла)\n",
    "Проблема обычной реализации перцептрона в том, что закончить его обучение мы можем с неоптимальными весами, т.к. точность разбиения в зависимости от числа итераций не растет монотонно. Чтобы этого избежать, мы можем оставлять в конце веса той итерации, на которой мы лучше всего разбивали множество `X`.\n",
    "\n",
    "#### Методы\n",
    "`predict(X)` - возвращает предсказанные метки для элементов выборки `X`\n",
    "\n",
    "`fit(X, y)` -  - инициализирует веса перцептрона нулями, а затем обновляет их в течении `iterations` итераций. Обновление происходит следующим образом: $w_{t+1} = w_t + \\sum_{y_i: \\text{sign}(x_i w) \\neq y_i} y_i \\cdot x_i$. В конце обучения оставляет веса, которые классифицируют train выборку лучше всего. Обратите внимание: для сохранения лучших весов следует использовать `np.copy`\n",
    "\n",
    "Гарантируется, что в обучающей и тестовой выборках всего два класса. Обратите внимание, что метки классов в обучающей выборке могут быть любыми.\n",
    "\n",
    "#### Параметры конструктора\n",
    "`iterations` - количество итераций обучения перцептрона\n",
    "\n",
    "#### Поля\n",
    "`w` - веса перцептрона размерности `X.shape[1] + 1`. `w[0]` должен соответстовать константе, `w[1:]` - коэффициентам компонент элемента `X`.\n",
    "\n",
    "#### Тесты\n",
    "Есть две группы тестов:\n",
    "1. Линейно разделимые данные с неравным еоличеством точек в каждом классе. Всего 20 тестов по 200 точек в train и 100 точек в test.\n",
    "2. Линейно неразделимые данные с outlier'ами. Всего 20 тестов по 400 точек в train и 100 точек в test.\n",
    "\n",
    "Количество итераций на каждом из тестов равно `20000`, а размерность пространства не превышает `16`."
   ]
  },
  {
   "cell_type": "code",
   "execution_count": null,
   "metadata": {
    "id": "cXcZxnk-7Ilh"
   },
   "outputs": [],
   "source": [
    "from task import PerceptronBest"
   ]
  },
  {
   "cell_type": "markdown",
   "metadata": {
    "id": "QD2PFNgj7Ilo"
   },
   "source": [
    "Посмотрим на то, как наш перцептрон справляется с различными наборами данных"
   ]
  },
  {
   "cell_type": "code",
   "execution_count": null,
   "metadata": {
    "id": "T4PeoUrH7Ilp"
   },
   "outputs": [],
   "source": [
    "X, true_labels = make_blobs(400, 2, centers=[[0, 0], [2.5, 2.5]])\n",
    "c = PerceptronBest()\n",
    "c.fit(X, true_labels)\n",
    "visualize(X, true_labels, np.array(c.predict(X)), c.w)"
   ]
  },
  {
   "cell_type": "code",
   "execution_count": null,
   "metadata": {
    "id": "eCfISdtE7Ils"
   },
   "outputs": [],
   "source": [
    "X, true_labels = make_moons(400, noise=0.075)\n",
    "c = PerceptronBest()\n",
    "c.fit(X, true_labels)\n",
    "visualize(X, true_labels, np.array(c.predict(X)), c.w)"
   ]
  },
  {
   "cell_type": "markdown",
   "metadata": {
    "id": "7TaVXLD77Ilv"
   },
   "source": [
    "### Задание 3 (1 балл)\n",
    "Реализуйте метод `transform_images(images)`, который преобразует изображения в двумерные векторы. Значение компонент векторов придумайте сами и напишите в виде комментария к методу."
   ]
  },
  {
   "cell_type": "code",
   "execution_count": null,
   "metadata": {
    "id": "isIxsEyi7Ilv"
   },
   "outputs": [],
   "source": [
    "from task import transform_images\n",
    "\n",
    "def get_digits(y0=1, y1=5):\n",
    "    data = datasets.load_digits()\n",
    "    images, labels = data.images, data.target\n",
    "    mask = np.logical_or(labels == y0, labels == y1)\n",
    "    labels = labels[mask]\n",
    "    images = images[mask]\n",
    "    images /= np.max(images)\n",
    "    X = transform_images(images)\n",
    "    return X, labels"
   ]
  },
  {
   "cell_type": "markdown",
   "metadata": {
    "id": "vHQjZvre7Ilz"
   },
   "source": [
    "### Задание 4 (4 балла)\n",
    "Теперь посмотрим на точность обычного перцептрона и перцептрона выбором лучшей итерации. Для тестирования будем использовать цифры 1 и 5. Необходимо использовать реализованное выше преобразование, т.е. только векторы из 2х признаков. \n",
    "\n",
    "Оценка за это задание выставляется следующим образом:\n",
    "1. 1 балл - что-то обучается, картинки рисуются\n",
    "2. 2 балла - точность хотя бы одного из классификаторов на тестовой выборке больше 80%\n",
    "3. 4 балла - точность хотя бы одного из классификаторов на тестовой выборке больше 90%\n",
    "\n",
    "__Обратите внимание, что перцептрон детерминирован, а выборка должна разбиваться без перемешивания__"
   ]
  },
  {
   "cell_type": "code",
   "execution_count": null,
   "metadata": {
    "id": "H3gVnqt7COxc"
   },
   "outputs": [],
   "source": [
    "X, y = get_digits()\n",
    "\n",
    "X_train, X_test, y_train, y_test = train_test_split(X, y, train_size=0.8, shuffle=False)"
   ]
  },
  {
   "cell_type": "code",
   "execution_count": null,
   "metadata": {
    "id": "NfTNDhnE7Il3"
   },
   "outputs": [],
   "source": [
    "c = Perceptron(iterations=100000)\n",
    "c.fit(X_train, y_train)\n",
    "visualize(X_train, y_train, np.array(c.predict(X_train)), c.w)\n",
    "print(\"Accuracy:\", np.mean(c.predict(X_test) == y_test))"
   ]
  },
  {
   "cell_type": "code",
   "execution_count": null,
   "metadata": {
    "id": "HOJ2AIv-7Il6"
   },
   "outputs": [],
   "source": [
    "c = PerceptronBest(iterations=100000)\n",
    "c.fit(X_train, y_train)\n",
    "visualize(X_train, y_train, np.array(c.predict(X_train)), c.w)\n",
    "print(\"Accuracy:\", np.mean(c.predict(X_test) == y_test))"
   ]
  },
  {
   "cell_type": "markdown",
   "metadata": {
    "id": "-xQ6ZqIi7Il8"
   },
   "source": [
    "А теперь посчитаем среднюю точность по всем возможным парам цифр"
   ]
  },
  {
   "cell_type": "code",
   "execution_count": null,
   "metadata": {
    "id": "eAO1gFIK7Il9",
    "scrolled": true
   },
   "outputs": [],
   "source": [
    "accs = []\n",
    "for y0, y1 in [(y0, y1) for y0 in range(9) for y1 in range(y0+1, 10)]:\n",
    "    X, y = get_digits(y0, y1)\n",
    "    X_train, X_test, y_train, y_test = train_test_split(X, y, train_size=0.8, shuffle=False)\n",
    "    c = Perceptron(iterations=20000)\n",
    "    c.fit(X_train, y_train)\n",
    "    accs.append(np.mean(c.predict(X_test) == y_test))\n",
    "print(\"Mean accuracy:\", np.mean(accs))"
   ]
  },
  {
   "cell_type": "code",
   "execution_count": null,
   "metadata": {
    "id": "-prBfvOh7Il_",
    "scrolled": true
   },
   "outputs": [],
   "source": [
    "accs = []\n",
    "for y0, y1 in [(y0, y1) for y0 in range(9) for y1 in range(y0+1, 10)]:\n",
    "    X, y = get_digits(y0, y1)\n",
    "    X_train, X_test, y_train, y_test = train_test_split(X, y, train_size=0.8, shuffle=False)\n",
    "    c = PerceptronBest(iterations=20000)\n",
    "    c.fit(X_train, y_train)\n",
    "    accs.append(np.mean(c.predict(X_test) == y_test))\n",
    "print(\"Mean accuracy:\", np.mean(accs))"
   ]
  },
  {
   "cell_type": "code",
   "execution_count": null,
   "metadata": {
    "id": "j6i1G0jI7ImC"
   },
   "outputs": [],
   "source": []
  }
 ],
 "metadata": {
  "colab": {
   "collapsed_sections": [],
   "name": "hw05_task.ipynb",
   "provenance": []
  },
  "kernelspec": {
   "display_name": "Python 3 (ipykernel)",
   "language": "python",
   "name": "python3"
  },
  "language_info": {
   "codemirror_mode": {
    "name": "ipython",
    "version": 3
   },
   "file_extension": ".py",
   "mimetype": "text/x-python",
   "name": "python",
   "nbconvert_exporter": "python",
   "pygments_lexer": "ipython3",
   "version": "3.9.12"
  }
 },
 "nbformat": 4,
 "nbformat_minor": 1
}
